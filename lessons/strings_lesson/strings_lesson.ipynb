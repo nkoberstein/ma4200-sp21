{
 "cells": [
  {
   "cell_type": "code",
   "execution_count": null,
   "id": "opening-criterion",
   "metadata": {
    "deletable": false,
    "editable": false
   },
   "outputs": [],
   "source": [
    "# Initialize Otter\n",
    "import otter\n",
    "grader = otter.Notebook(\"strings_lesson.ipynb\")"
   ]
  },
  {
   "cell_type": "markdown",
   "metadata": {},
   "source": [
    "# 1. Strings\n",
    "\n",
    "As Cryptography primarily deals with enciphering and deciphering messages written as text, the `string` data type will be used very frequently. Strings are sequences of characters stored together. A character can be a number, letter, or symbol. The string type in Python is called str.\n",
    "\n",
    "Strings may be delimited using either single or double quotes. It’s best practice to be consistent in your use of single or double quotes. All the characters between the opening quote and matching closing quote are part of the string. If you want your string of characters to contain a single quote, you need to delimit your string using double quotes.\n",
    "\n",
    "We have made an error in the next cell.  Run it and see what happens."
   ]
  },
  {
   "cell_type": "code",
   "execution_count": 1,
   "metadata": {},
   "outputs": [],
   "source": [
    "print('This string has one single quote. It's going to be a problem')"
   ]
  },
  {
   "cell_type": "markdown",
   "metadata": {},
   "source": [
    "Try to fix the code above so that you can run the cell and see the intended message instead of an error."
   ]
  },
  {
   "cell_type": "markdown",
   "metadata": {},
   "source": [
    "## 1.1 Escape Sequence\n",
    "\n",
    "There are several other characters that have special meaning and may cause Python to invoke that special property if encountered in a string. You can indicate to Python to use the actual character, not the special meaning, by using a backslash ( \\ ) in front of the character. The inclusion of a backslash to change the interpretation of an input is called an **escape sequence**."
   ]
  },
  {
   "cell_type": "code",
   "execution_count": 2,
   "metadata": {},
   "outputs": [],
   "source": [
    "print(\"This string has single quotes \\', double quotes \\\", backslashes \\\\, and more!\")"
   ]
  },
  {
   "cell_type": "markdown",
   "metadata": {},
   "source": [
    "Additionally, the backslash character can impart special meanings to normal characters contained in a strong. For example, including the characters \\n in a string will cause it to create a new line in the printed output."
   ]
  },
  {
   "cell_type": "code",
   "execution_count": 3,
   "metadata": {},
   "outputs": [],
   "source": [
    "print('This string will be printed on \\ntwo different lines.')"
   ]
  },
  {
   "cell_type": "markdown",
   "metadata": {},
   "source": [
    "A table of common escape sequences can be found in section [3.2.2](https://macs358.org/chapters/03/2/2/data-types.html) of the online textbook"
   ]
  },
  {
   "cell_type": "markdown",
   "metadata": {
    "deletable": false,
    "editable": false
   },
   "source": [
    "#### Question 1.1.1\n",
    "<!--\n",
    "BEGIN QUESTION\n",
    "name: q1_1_1\n",
    "-->"
   ]
  },
  {
   "cell_type": "code",
   "execution_count": 4,
   "metadata": {},
   "outputs": [],
   "source": [
    "# Change the next line \n",
    "# so that the variable phrase\n",
    "# prints the follorwing message \n",
    "# Welcome to Mr. Koberstein's\n",
    "# \"Cryptography\" Class.\"\n",
    "\n",
    "phrase = ..."
   ]
  },
  {
   "cell_type": "code",
   "execution_count": null,
   "id": "final-fellowship",
   "metadata": {
    "deletable": false,
    "editable": false
   },
   "outputs": [],
   "source": [
    "grader.check(\"q1_1_1\")"
   ]
  },
  {
   "cell_type": "markdown",
   "metadata": {},
   "source": [
    "# 2. String Operations, Methods, and Functions\n",
    "\n",
    "There are special operations that can be performed on strings to combine, slice, and display them in ways that will be beneficial for the study of Cryptography.\n",
    "\n",
    "## 2.1 Concatenating Strings\n",
    "Two strings can be combined end-to-end in a process called __concatenation__. This operation uses the `+` symbol between string literals or variables referencing string objects to create a new string.\n",
    "\n",
    "The cell below combines two string literals:"
   ]
  },
  {
   "cell_type": "code",
   "execution_count": 8,
   "metadata": {},
   "outputs": [],
   "source": [
    "print('cryptography' + 'class')"
   ]
  },
  {
   "cell_type": "markdown",
   "metadata": {},
   "source": [
    "The cell below combines two variables referencing string objects:"
   ]
  },
  {
   "cell_type": "code",
   "execution_count": 9,
   "metadata": {},
   "outputs": [],
   "source": [
    "word1 = 'cryptography'\n",
    "word2 = 'class'\n",
    "print(word1 + word2)\n",
    "print(word2 + word1)"
   ]
  },
  {
   "cell_type": "markdown",
   "metadata": {},
   "source": [
    "Notice that unlike addition, the order of concatentation is important, as strings will be combined left to right."
   ]
  },
  {
   "cell_type": "markdown",
   "metadata": {},
   "source": [
    "#### Question 2.1.1\n",
    "\n",
    "Finish the code below so that it combines the three words and prints `quickbrownfox`\n"
   ]
  },
  {
   "cell_type": "code",
   "execution_count": 10,
   "metadata": {},
   "outputs": [],
   "source": [
    "# First, we've written down 3 words \n",
    "\n",
    "word_A = 'quick'\n",
    "\n",
    "word_B = 'brown'\n",
    "\n",
    "word_C = 'fox'\n",
    "\n",
    "# Combine the three words to print `quickbrownfox`.\n"
   ]
  },
  {
   "cell_type": "markdown",
   "metadata": {},
   "source": [
    "## 2.2 Formatting Strings\n",
    "\n",
    "Many object types have built-in features that give them special abilities. These abilities are called __methods__ and many of the methods related to strings allow you to format them a specific way. You call a method onto an object by appending `.methodName()` to the end of the object, where `methodName` is replaced with the name of the method you intend to you.\n",
    "\n",
    "For example, to use the `upper()` method on the object `hello`:"
   ]
  },
  {
   "cell_type": "code",
   "execution_count": 11,
   "metadata": {},
   "outputs": [],
   "source": [
    "print( 'hello'.upper() )"
   ]
  },
  {
   "cell_type": "markdown",
   "metadata": {},
   "source": [
    "Methods also work on variables that point to `str` type objects:"
   ]
  },
  {
   "cell_type": "code",
   "execution_count": 12,
   "metadata": {},
   "outputs": [],
   "source": [
    "password = \"I'll never tell!\"\n",
    "print( password.upper() )"
   ]
  },
  {
   "cell_type": "markdown",
   "metadata": {},
   "source": [
    "Note that the method `upper()` does not change the value of the object `password`. The method creates a temporary value that can be used instead of the actual value of the object.\n",
    "\n",
    "See that `password` still prints the same as before by running the cell below:"
   ]
  },
  {
   "cell_type": "code",
   "execution_count": 13,
   "metadata": {},
   "outputs": [],
   "source": [
    "print(password)"
   ]
  },
  {
   "cell_type": "markdown",
   "metadata": {},
   "source": [
    "A table of frequently used methods for string objects can be found in section [3.2.4](https://macs358.org/chapters/03/2/4/string-operations.html) of the online textbook.\n",
    "\n",
    "Examples:"
   ]
  },
  {
   "cell_type": "markdown",
   "metadata": {},
   "source": [
    "We can replace the substring `'bananas'` with the string `'apples'`."
   ]
  },
  {
   "cell_type": "code",
   "execution_count": 14,
   "metadata": {},
   "outputs": [],
   "source": [
    "print( 'I like math! math is my favorite. I use math everyday'.replace('math','science') )"
   ]
  },
  {
   "cell_type": "markdown",
   "metadata": {},
   "source": [
    "You don't need to replace all occurrences of `'math'` though if you don't want. You can specify how many occurrences to replace by using a 3rd parameter for your method. The example below will replace only the first 2 occurrences with `'science'`."
   ]
  },
  {
   "cell_type": "code",
   "execution_count": 15,
   "metadata": {},
   "outputs": [],
   "source": [
    "print( 'I like math! math is my favorite. I use math everyday'.replace('math','science',2) )"
   ]
  },
  {
   "cell_type": "markdown",
   "metadata": {},
   "source": [
    "#### Question 2.2.1\n",
    "\n",
    "Write a Python expression in the next cell that uses a string method to replace the substring `'season'` with your favorite season."
   ]
  },
  {
   "cell_type": "code",
   "execution_count": 16,
   "metadata": {},
   "outputs": [],
   "source": [
    "print( 'I enjoy season the most. season has the best weather')"
   ]
  },
  {
   "cell_type": "markdown",
   "metadata": {},
   "source": [
    "### 2.2.1 Combining Methods\n",
    "\n",
    "Methods can be combined and will be applied in order from left to right, so make sure you think through the order to apply them! In the second example using `upper()` after `find()` will result in an error because `find()` will result in an integer, and integers don't have a `upper()` method that can be used."
   ]
  },
  {
   "cell_type": "code",
   "execution_count": 17,
   "metadata": {},
   "outputs": [],
   "source": [
    "print( 'mississippi'.upper().count('S') )"
   ]
  },
  {
   "cell_type": "code",
   "execution_count": 18,
   "metadata": {},
   "outputs": [],
   "source": [
    "print( 'mississippi'.count('P').upper() )"
   ]
  },
  {
   "cell_type": "markdown",
   "metadata": {},
   "source": [
    "Try to fix the code above so that you can run the cell and count the number of capital P's."
   ]
  },
  {
   "cell_type": "markdown",
   "metadata": {},
   "source": [
    "### 2.2.2 Finding and Indexing Strings\n",
    "\n",
    "Using the `find()` and `index()` methods will return the location of the first occurrence of the substring `'n'`. Notice that a character location, or index, starts counting with the first character at `0` and that spaces count as characters. More on this below."
   ]
  },
  {
   "cell_type": "code",
   "execution_count": 19,
   "metadata": {},
   "outputs": [],
   "source": [
    "print( \"I will never tell!\".find('n') )"
   ]
  },
  {
   "cell_type": "code",
   "execution_count": 20,
   "metadata": {},
   "outputs": [],
   "source": [
    "print( \"I will never tell!\".index('e') )"
   ]
  },
  {
   "cell_type": "markdown",
   "metadata": {},
   "source": [
    "Including 2 additional integers in the `find()` and `index()` methods will allow you narrow down the search. In the example below the `find()` method will return the location of the first occurrence of the substring '`l`' between indices 10 and 18."
   ]
  },
  {
   "cell_type": "code",
   "execution_count": 21,
   "metadata": {},
   "outputs": [],
   "source": [
    "print( \"I will never tell!\".find('l', 10, 18))"
   ]
  },
  {
   "cell_type": "markdown",
   "metadata": {},
   "source": [
    "If the `find()` method can't find a substring, it will return the value of `-1`."
   ]
  },
  {
   "cell_type": "code",
   "execution_count": 22,
   "metadata": {},
   "outputs": [],
   "source": [
    "print( password.upper())\n",
    "print( password.upper().find('n') )"
   ]
  },
  {
   "cell_type": "markdown",
   "metadata": {},
   "source": [
    "The `index()` method returns an error message when it can't find a substring."
   ]
  },
  {
   "cell_type": "code",
   "execution_count": 23,
   "metadata": {},
   "outputs": [],
   "source": [
    "print( 'hello'.index('Q') )"
   ]
  },
  {
   "cell_type": "markdown",
   "metadata": {},
   "source": [
    "Notice this last cell produced a new type of error, `ValueError`. This error is raised when an operation or function receives an argument that has the right type but an inappropriate value, and the situation is not described by a more precise exception (error message). In this case, it means that the `index()` method was correctly given a `str` type object `Q`, but it was not found in the the string the method was acting upon, `hello`.\n",
    "\n",
    "### 2.2.3 Removing Spaces\n",
    "A good trick to keep in mind is how to remove spaces. You can remove spaces, or any other character, using the `.replace()` method where the second argument is an empty string, `''`"
   ]
  },
  {
   "cell_type": "code",
   "execution_count": 24,
   "metadata": {},
   "outputs": [],
   "source": [
    "print( 'When this command is run there will be no more spaces'.replace(' ', '') )"
   ]
  },
  {
   "cell_type": "markdown",
   "metadata": {},
   "source": [
    "## 2.3 The len() Function\n",
    "The built-in `len()` function will return an integer that indicates how many characters are stored a string."
   ]
  },
  {
   "cell_type": "code",
   "execution_count": 25,
   "metadata": {},
   "outputs": [],
   "source": [
    "len( 'hello there' )"
   ]
  },
  {
   "cell_type": "markdown",
   "metadata": {},
   "source": [
    "We'll see later that the `len()` function can be used on other types of objects, such as lists."
   ]
  },
  {
   "cell_type": "markdown",
   "metadata": {},
   "source": [
    "## 2.4 String Indices\n",
    "When creating a string object in Python, each character in the string is indexed, meaning it has an integer, starting at 0, assigned to each character in the string that denotes the position of that character in the string. For example:"
   ]
  },
  {
   "cell_type": "code",
   "execution_count": 26,
   "metadata": {},
   "outputs": [],
   "source": [
    "code = 'secret'"
   ]
  },
  {
   "cell_type": "markdown",
   "metadata": {},
   "source": [
    "The variable code now points to a string object containing the characters `secret`. The string has been indexed, meaning assigned a position value, starting with `0`:\n",
    "\n",
    "| |0|1|2|3|4|5|\n",
    "|-|-|-|-|-|-|-|\n",
    "|code|`s`|`e`|`c`|`r`|`e`|`t`|\n",
    "\n",
    "You refer to a character stored at a single index, or range of indices using a special syntax.\n",
    "\n",
    "The syntax `stringName[a]` will return the character found at index `a` in the string `stringName`\n",
    "\n",
    "The following Python code will print only the character in string `code` found at index `4`."
   ]
  },
  {
   "cell_type": "code",
   "execution_count": 27,
   "metadata": {},
   "outputs": [],
   "source": [
    "print( code[4] )"
   ]
  },
  {
   "cell_type": "markdown",
   "metadata": {},
   "source": [
    "which will also work directly on any literal string object as well:"
   ]
  },
  {
   "cell_type": "code",
   "execution_count": 28,
   "metadata": {},
   "outputs": [],
   "source": [
    "print( 'secret'[2] )"
   ]
  },
  {
   "cell_type": "markdown",
   "metadata": {},
   "source": [
    "### 2.4.1 Negative Indices\n",
    "\n",
    "You can use negative numbers for indices, which will count indices from the end of the string.\n",
    "\n",
    "| |-6|-5|-4|-3|-2|-1|\n",
    "|-|-|-|-|-|-|-|\n",
    "|code|`s`|`e`|`c`|`r`|`e`|`t`|"
   ]
  },
  {
   "cell_type": "code",
   "execution_count": 29,
   "metadata": {},
   "outputs": [],
   "source": [
    "print( code[-3] )"
   ]
  },
  {
   "cell_type": "markdown",
   "metadata": {},
   "source": [
    "### 2.4.2 String Slicing\n",
    "You can return a sequence of characters from a string, called __slicing__, by using the notation  `stringName[start:stop:step]`, which will return the characters starting at index `start` and ending at the index *just before* index `stop`, moving by `step` number of spaces each time. Not all of these positions are required, and can be omitted. \n",
    "\n",
    "If `start` is omitted, it's assumed to start at index 0, if `stop` is omitted it's assumed to stop at the last index, and if step is omitted it's assumed to use a step size of 1."
   ]
  },
  {
   "cell_type": "code",
   "execution_count": 30,
   "metadata": {},
   "outputs": [],
   "source": [
    "print( code[1:4] )"
   ]
  },
  {
   "cell_type": "code",
   "execution_count": 31,
   "metadata": {},
   "outputs": [],
   "source": [
    "print( code[1:6:2] )"
   ]
  },
  {
   "cell_type": "code",
   "execution_count": 32,
   "metadata": {},
   "outputs": [],
   "source": [
    "print( code[::3] )"
   ]
  },
  {
   "cell_type": "code",
   "execution_count": 33,
   "metadata": {},
   "outputs": [],
   "source": [
    "print( code[:5:] )"
   ]
  },
  {
   "cell_type": "code",
   "execution_count": 34,
   "metadata": {},
   "outputs": [],
   "source": [
    "print( code[3::] )"
   ]
  },
  {
   "cell_type": "markdown",
   "metadata": {},
   "source": [
    "As you can see that by using all 3 values for `start`, `stop`, and `step` you can extract almost any portion of a string."
   ]
  },
  {
   "cell_type": "markdown",
   "metadata": {},
   "source": [
    "### 2.4.3 Indices Out of Range\n",
    "If you reference an index value that is not assigned to a character, you'll receive an error indicating that the string index is *out of range* meaning, the index you provided is outside the range of values Python was expecting for this string. Run the cells below to see the error. You do not need to correct these cells."
   ]
  },
  {
   "cell_type": "code",
   "execution_count": 35,
   "metadata": {},
   "outputs": [],
   "source": [
    "code[7]"
   ]
  },
  {
   "cell_type": "code",
   "execution_count": 36,
   "metadata": {},
   "outputs": [],
   "source": [
    "code[-10]"
   ]
  },
  {
   "cell_type": "markdown",
   "metadata": {},
   "source": [
    "## Brainstorm"
   ]
  },
  {
   "cell_type": "markdown",
   "metadata": {},
   "source": [
    "Think about how the concepts discussed today and how they could be used for Transposition and Substitution ciphers. Discuss with your classmates and write down your ideas.\n",
    "6.1 Submitting your work\n",
    "You're done with Lab 01! All assignments in the course will be distributed as notebooks like this one, and you will submit your work by doing the following:\n",
    "\n",
    "Save your notebook\n",
    "Restart the kernel and run up to this cell.\n",
    "Run all the tests by running the cell containing grader.check_all(). Make sure they pass the way you expect them to.\n",
    "Run the cell below with the code grader.export(\"lab01.ipynb\").\n",
    "Download the file named lab01.zip, found in the explorer pane on the left side of the screen.\n",
    "Upload lab01.zip to the Lab 01 assignment on Canvas."
   ]
  },
  {
   "cell_type": "markdown",
   "metadata": {},
   "source": [
    "\n",
    "## Submitting your work\n",
    "You're done with the lesson! \n",
    "\n",
    "Save your notebook\n",
    "Restart the kernel and run up to this cell.\n",
    "Run all the tests by running the cell containing grader.check_all(). Make sure they pass the way you expect them to.\n",
    "Run the cell below with the code grader.export().\n",
    "Download the file named strings_lesson.zip, found in the explorer pane on the left side of the screen.\n",
    "Upload strings_lesson.zip to the Strings Lesson assignment on Canvas."
   ]
  },
  {
   "cell_type": "markdown",
   "id": "chicken-feeling",
   "metadata": {
    "deletable": false,
    "editable": false
   },
   "source": [
    "---\n",
    "\n",
    "To double-check your work, the cell below will rerun all of the autograder tests."
   ]
  },
  {
   "cell_type": "code",
   "execution_count": null,
   "id": "defined-remark",
   "metadata": {
    "deletable": false,
    "editable": false
   },
   "outputs": [],
   "source": [
    "grader.check_all()"
   ]
  },
  {
   "cell_type": "markdown",
   "id": "faced-circuit",
   "metadata": {
    "deletable": false,
    "editable": false
   },
   "source": [
    "## Submission\n",
    "\n",
    "Make sure you have run all cells in your notebook in order before running the cell below, so that all images/graphs appear in the output. The cell below will generate a zip file for you to submit. **Please save before exporting!**\n",
    "\n",
    "When done exporting, find the .zip file in the left side of the screen in the file browser, right-click, and select **Download**. You'll submit this .zip file for the assignment in Canvas to Gradescope for grading."
   ]
  },
  {
   "cell_type": "code",
   "execution_count": null,
   "id": "loaded-sterling",
   "metadata": {
    "deletable": false,
    "editable": false
   },
   "outputs": [],
   "source": [
    "# Save your notebook first, then run this cell to export your submission.\n",
    "grader.export()"
   ]
  },
  {
   "cell_type": "markdown",
   "id": "collective-entertainment",
   "metadata": {},
   "source": [
    " "
   ]
  }
 ],
 "metadata": {
  "kernelspec": {
   "display_name": "Python 3",
   "language": "python",
   "name": "python3"
  },
  "language_info": {
   "codemirror_mode": {
    "name": "ipython",
    "version": 3
   },
   "file_extension": ".py",
   "mimetype": "text/x-python",
   "name": "python",
   "nbconvert_exporter": "python",
   "pygments_lexer": "ipython3",
   "version": "3.8.6"
  }
 },
 "nbformat": 4,
 "nbformat_minor": 4
}
