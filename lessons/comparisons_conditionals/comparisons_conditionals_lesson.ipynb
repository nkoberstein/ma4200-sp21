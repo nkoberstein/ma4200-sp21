{
 "cells": [
  {
   "cell_type": "code",
   "execution_count": null,
   "metadata": {
    "deletable": false,
    "editable": false
   },
   "outputs": [],
   "source": [
    "# Initialize Otter\n",
    "import otter\n",
    "grader = otter.Notebook(\"comparisons_conditionals_lesson.ipynb\")"
   ]
  },
  {
   "cell_type": "markdown",
   "metadata": {},
   "source": [
    "# 1. Comparisons\n",
    "\n",
    "A useful tool for Cryptography will be checking to see if a specific letter, word, or phrase is contained within a string that is storing a message. But first, we must define **Boolean** (True or False) values which most often arise from comparison operators. Python includes a variety of operators that compare values. \n",
    "\n",
    "Consider for example the following:"
   ]
  },
  {
   "cell_type": "code",
   "execution_count": null,
   "metadata": {},
   "outputs": [],
   "source": [
    "7 < 2"
   ]
  },
  {
   "cell_type": "markdown",
   "metadata": {},
   "source": [
    "When you run the above code, the value `False` is outputted to indicate that the comparison is invalid.\n",
    "\n",
    "Change the code above so that the value `True` is printed."
   ]
  },
  {
   "cell_type": "markdown",
   "metadata": {},
   "source": [
    "## 1.1 Comparison Operators\n",
    "\n",
    "Several common operators are shown below. Run each cell and notice which produce a `False` output."
   ]
  },
  {
   "cell_type": "code",
   "execution_count": null,
   "metadata": {},
   "outputs": [],
   "source": [
    "19 > 6 + 5"
   ]
  },
  {
   "cell_type": "code",
   "execution_count": null,
   "metadata": {},
   "outputs": [],
   "source": [
    "19 < 6 + 5"
   ]
  },
  {
   "cell_type": "code",
   "execution_count": null,
   "metadata": {},
   "outputs": [],
   "source": [
    "2 + 3 == 5"
   ]
  },
  {
   "cell_type": "markdown",
   "metadata": {},
   "source": [
    "Note that == is a comparison operator, while = is an assignment operator."
   ]
  },
  {
   "cell_type": "code",
   "execution_count": null,
   "metadata": {},
   "outputs": [],
   "source": [
    "2 + 3 != 5"
   ]
  },
  {
   "cell_type": "markdown",
   "metadata": {},
   "source": [
    "The operator `!=` checks if the values of two operands are not equal in which the condition becomes true."
   ]
  },
  {
   "cell_type": "code",
   "execution_count": null,
   "metadata": {},
   "outputs": [],
   "source": [
    "9 >= 10"
   ]
  },
  {
   "cell_type": "code",
   "execution_count": null,
   "metadata": {},
   "outputs": [],
   "source": [
    "2**3 <= 7"
   ]
  },
  {
   "cell_type": "code",
   "execution_count": null,
   "metadata": {},
   "outputs": [],
   "source": [
    "12 < 6*3 < 20"
   ]
  },
  {
   "cell_type": "code",
   "execution_count": null,
   "metadata": {},
   "outputs": [],
   "source": [
    "-1 < 3 < 2"
   ]
  },
  {
   "cell_type": "code",
   "execution_count": null,
   "metadata": {},
   "outputs": [],
   "source": [
    "\"Science\" > \"Mathematics\" > \"Math\""
   ]
  },
  {
   "cell_type": "code",
   "execution_count": null,
   "metadata": {},
   "outputs": [],
   "source": [
    "a = 8 + 2\n",
    "b = 10\n",
    "a == b"
   ]
  },
  {
   "cell_type": "markdown",
   "metadata": {},
   "source": [
    "## 1.2 `in` and `notin`\n",
    "\n",
    "You can check to see if a string is contained within another string using the operators in and not in in. As is always the case with strings, these operations are case-sensitive."
   ]
  },
  {
   "cell_type": "code",
   "execution_count": null,
   "metadata": {},
   "outputs": [],
   "source": [
    "'graph' in 'cryptography'"
   ]
  },
  {
   "cell_type": "code",
   "execution_count": null,
   "metadata": {},
   "outputs": [],
   "source": [
    "\"math\" not in  \"mathematics\""
   ]
  },
  {
   "cell_type": "code",
   "execution_count": null,
   "metadata": {},
   "outputs": [],
   "source": [
    "'compute' in \"Computer\""
   ]
  },
  {
   "cell_type": "markdown",
   "metadata": {},
   "source": [
    "# 2. Conditional Statements\n",
    "\n",
    "A conditional statement is a multi-line statement that allows Python to choose among different alternatives based on the truth value of an expression. A conditional statement always begins with an `if` header, which is a single line followed by an indented body. The body is only executed if the expression directly following `if` (called the if expression) evaluates to a `True` value. If the `if` expression evaluates to a `False` value, then the body of the `if` is skipped."
   ]
  },
  {
   "cell_type": "markdown",
   "metadata": {},
   "source": [
    "## 2.1 `if` statements"
   ]
  },
  {
   "cell_type": "code",
   "execution_count": null,
   "metadata": {},
   "outputs": [],
   "source": [
    "password = 'unicorn'\n",
    "    \n",
    "if password == 'unicorn':\n",
    "    print('Password is correct')"
   ]
  },
  {
   "cell_type": "code",
   "execution_count": null,
   "metadata": {},
   "outputs": [],
   "source": [
    "month = 'july'\n",
    "    \n",
    "if month == 'june':\n",
    "    print(\"It's summer!\")"
   ]
  },
  {
   "cell_type": "markdown",
   "metadata": {},
   "source": [
    "This first cell above prints the text `Password is correct` if the string `password` has the value of `unicorn`. In the second cell, the string `month` is not `june` and therefore nothing is printed to the screen."
   ]
  },
  {
   "cell_type": "markdown",
   "metadata": {},
   "source": [
    "## 2.2 `elif` Statements\n",
    "\n",
    "We can change the behavior of `if` statements by using an `elif` clause. `elif` is shorthand in Python for “else if”."
   ]
  },
  {
   "cell_type": "code",
   "execution_count": null,
   "metadata": {},
   "outputs": [],
   "source": [
    "month = 'july'\n",
    "    \n",
    "if month == 'june':\n",
    "    print(\"It's summer!\")\n",
    "elif month == 'july':\n",
    "    print(\"Summer is almost over!\")\n",
    "elif month != 'june':\n",
    "    print(\"It's not summer.\")"
   ]
  },
  {
   "cell_type": "markdown",
   "metadata": {},
   "source": [
    "You can see that this `if` statement first checks to see if `month` has the value `june`. In this case, it does not, so it checks the first `elif` clause. Since `month` has the value `july`, this `elif` clause resolves `True` and it executes the code indented underneath it, so the phrase `Summer is almost over!` is printed to the screen. Notice that even though the second `elif` clause is also true, `july != june`, it does not execute this code. \n",
    "\n",
    "**Only the first `elif` clause that evaluates `True` is executed.**"
   ]
  },
  {
   "cell_type": "markdown",
   "metadata": {},
   "source": [
    "## 2.3 `else` Statements"
   ]
  },
  {
   "cell_type": "markdown",
   "metadata": {},
   "source": [
    "You may have noticed in this example that the second `elif` clause acts as a catch all, since if neither of the first two statements run, then this last statement must be true. We could alternatively use an `else` statement to accomplish the same result:"
   ]
  },
  {
   "cell_type": "code",
   "execution_count": null,
   "metadata": {},
   "outputs": [],
   "source": [
    "month = 'july'\n",
    "    \n",
    "if month == 'june':\n",
    "    print(\"It's summer!\")\n",
    "elif month == 'july':\n",
    "    print(\"Summer is almost over!\")\n",
    "else:\n",
    "    print(\"It's not summer.\")"
   ]
  },
  {
   "cell_type": "markdown",
   "metadata": {},
   "source": [
    "## 2.3 The General Form\n",
    "\n",
    "A conditional statement can also have multiple clauses with multiple bodies, and only one of those bodies can ever be executed. \n",
    "\n",
    "**Double click on the cell below to view the general format of a multi-clause conditional statement.**"
   ]
  },
  {
   "cell_type": "markdown",
   "metadata": {},
   "source": [
    "if <if expression>:\n",
    "    <if body>\n",
    "elif <elif expression 0>:\n",
    "    <elif body 0>\n",
    "elif <elif expression 1>:\n",
    "    <elif body 1>\n",
    "...\n",
    "else:\n",
    "    <else body>"
   ]
  },
  {
   "cell_type": "markdown",
   "metadata": {},
   "source": [
    "There is always exactly one `if` clause, but there can be any number of `elif` clauses. Python will evaluate the `if` and `elif` expressions in the headers in order until one is found that is a `True` value, then execute the corresponding body. The `else` clause is optional. When an `else` header is provided, its `else` body is executed only if none of the header expressions of the previous clauses are `True`. \n",
    "\n",
    "**The `else` clause must always come at the end (or not at all).**"
   ]
  },
  {
   "cell_type": "markdown",
   "metadata": {},
   "source": [
    "# 3. Practice"
   ]
  },
  {
   "cell_type": "markdown",
   "metadata": {
    "deletable": false,
    "editable": false
   },
   "source": [
    "<!-- BEGIN QUESTION -->\n",
    "\n",
    "#### Question 1\n",
    "\n",
    "Complete the if statement that checks the type of a playing card. If the card is a heart or diamond, make it print \"The card is red\". Otherwise, make it print \"The card is black.\" \n",
    "\n",
    "Change the value of `card` to check your work:\n",
    "\n",
    "<!--\n",
    "BEGIN QUESTION\n",
    "name: q1\n",
    "manual: true\n",
    "-->"
   ]
  },
  {
   "cell_type": "code",
   "execution_count": null,
   "metadata": {},
   "outputs": [],
   "source": [
    "##SOLUTION:## \n",
    "#the variable card is \n",
    "#defined and assigned \"heart\"\n",
    "#change the card type to\n",
    "#check your work\n",
    "card = \"heart\"\n",
    "\n",
    "#complete the if\n",
    "#statement below\n",
    "if card == \"heart\":\n",
    "    ...\n",
    "elif ...\n",
    "    print(\"The card is red.\")\n",
    "...\n",
    "    ...\n",
    "    "
   ]
  },
  {
   "cell_type": "markdown",
   "metadata": {
    "deletable": false,
    "editable": false
   },
   "source": [
    "<!-- END QUESTION -->\n",
    "\n",
    "<!-- BEGIN QUESTION -->\n",
    "\n",
    "#### Question 2\n",
    "\n",
    "The code cell below has several mistakes. In the markdown cell following it, state the mistakes. Then fixed the code and run it.\n",
    "\n",
    "<!--\n",
    "BEGIN QUESTION\n",
    "name: q2\n",
    "manual: true\n",
    "-->"
   ]
  },
  {
   "cell_type": "code",
   "execution_count": null,
   "metadata": {},
   "outputs": [],
   "source": [
    "fruit = apple\n",
    "\n",
    "if fruit = pear\n",
    "print('I have a pear.')\n",
    "else fruit != pear\n",
    "print('I don't have a pear.')\n",
    "elif fruit = apple\n",
    "print('I have an apple.')"
   ]
  },
  {
   "cell_type": "markdown",
   "metadata": {},
   "source": [
    "_Type your answer here, replacing this text._"
   ]
  },
  {
   "cell_type": "markdown",
   "metadata": {
    "deletable": false,
    "editable": false
   },
   "source": [
    "<!-- END QUESTION -->\n",
    "\n",
    "<!-- BEGIN QUESTION -->\n",
    "\n",
    "#### Question 3\n",
    "\n",
    "Complete the if statement that checks a user's name. If the name is \"Bond\" make it print \"Welcome on board 007.\" Otherwise make it print \"Good morning NAME\". (Replace Name with user's name)\n",
    "<!--\n",
    "BEGIN QUESTION\n",
    "name: q3\n",
    "manual: true\n",
    "-->"
   ]
  },
  {
   "cell_type": "code",
   "execution_count": null,
   "metadata": {},
   "outputs": [],
   "source": [
    "#the variable name is \n",
    "#defined and assigned \"Bond\"\n",
    "#change the name to\n",
    "#check your work\n",
    "name = \"Bond\"\n",
    "\n",
    "#complete the if\n",
    "#statement below\n",
    "if name ..."
   ]
  },
  {
   "cell_type": "markdown",
   "metadata": {
    "deletable": false,
    "editable": false
   },
   "source": [
    "<!-- END QUESTION -->\n",
    "\n",
    "<!-- BEGIN QUESTION -->\n",
    "\n",
    "#### Question 4\n",
    "\n",
    "Do the same thing as question 3, but this time make sure that if the name is bond with lower case b it still prints \"Welcome on board 007.\"\n",
    "\n",
    "<!--\n",
    "BEGIN QUESTION\n",
    "name: q4\n",
    "manual: true\n",
    "-->"
   ]
  },
  {
   "cell_type": "code",
   "execution_count": null,
   "metadata": {},
   "outputs": [],
   "source": [
    "#the variable name is \n",
    "#defined and assigned \"Bond\"\n",
    "#change the name to\n",
    "#check your work\n",
    "name = \"Bond\"\n",
    "\n",
    "#complete the if\n",
    "#statement below\n",
    "if name ..."
   ]
  },
  {
   "cell_type": "markdown",
   "metadata": {
    "deletable": false,
    "editable": false
   },
   "source": [
    "<!-- END QUESTION -->\n",
    "\n",
    "<!-- BEGIN QUESTION -->\n",
    "\n",
    "#### Question 5\n",
    "\n",
    "Assign 8 to the variable x and 15 to the variable y.\n",
    "\n",
    "In the same cell, create 2 conditional statements.\n",
    "\n",
    "Let the first one print \"x is greater than y.\" if x is greater than y.\n",
    "\n",
    "Let the second one print \"x is not greater than y.\" if x is not greater than y.\n",
    "\n",
    "Change the values assigned to x and y and re-run the cell to verify your code still works.\n",
    "\n",
    "<!--\n",
    "BEGIN QUESTION\n",
    "name: q5\n",
    "manual: true\n",
    "-->"
   ]
  },
  {
   "cell_type": "code",
   "execution_count": null,
   "metadata": {},
   "outputs": [],
   "source": [
    "x = ...\n",
    "y = ...\n",
    "\n",
    "...\n",
    "    ...\n",
    "...\n",
    "    ..."
   ]
  },
  {
   "cell_type": "markdown",
   "metadata": {},
   "source": [
    "<!-- END QUESTION -->\n",
    "\n",
    "\n",
    "\n",
    "#### Question 6\n",
    "\n",
    "The operator `%` is the Remainder (or Modulo) operator. Try it out:"
   ]
  },
  {
   "cell_type": "code",
   "execution_count": null,
   "metadata": {},
   "outputs": [],
   "source": [
    "28 % 26"
   ]
  },
  {
   "cell_type": "code",
   "execution_count": null,
   "metadata": {},
   "outputs": [],
   "source": [
    "9 % 3"
   ]
  },
  {
   "cell_type": "code",
   "execution_count": null,
   "metadata": {},
   "outputs": [],
   "source": [
    "6 % 2"
   ]
  },
  {
   "cell_type": "code",
   "execution_count": null,
   "metadata": {},
   "outputs": [],
   "source": [
    "99 % 2"
   ]
  },
  {
   "cell_type": "markdown",
   "metadata": {
    "deletable": false,
    "editable": false
   },
   "source": [
    "<!-- BEGIN QUESTION -->\n",
    "\n",
    "This operator can be useful in determining if a number is even.\n",
    "\n",
    "Assign 5 to the variable a and 4 to the variable b.\n",
    "\n",
    "In the same cell, create 2 conditional statements.\n",
    "\n",
    "Let the first one print \"The product is even.\" if a times b is even.\n",
    "\n",
    "Let the second one print \"The product is odd.\" if a times b is odd.\n",
    "\n",
    "Change the values assigned to a and b and re-run the cell to verify your code still works.\n",
    "\n",
    "<!--\n",
    "BEGIN QUESTION\n",
    "name: q6\n",
    "manual: true\n",
    "-->"
   ]
  },
  {
   "cell_type": "code",
   "execution_count": null,
   "metadata": {},
   "outputs": [],
   "source": [
    "a = ...\n",
    "b = ...\n",
    "\n",
    "..."
   ]
  },
  {
   "cell_type": "markdown",
   "metadata": {},
   "source": [
    "<!-- END QUESTION -->\n",
    "\n",
    "\n",
    "\n",
    "\n",
    "## Submitting your work\n",
    "You're done with the lesson! \n",
    "\n",
    "Save your notebook.\n",
    "\n",
    "Restart the kernel and run up to this cell.\n",
    "\n",
    "All questions are manually graded on this lesson.\n",
    "\n",
    "Run the cell below with the code grader.export().\n",
    "\n",
    "Download the file named comparisons_conditionals_lesson.zip, found in the explorer pane on the left side of the screen.\n",
    "\n",
    "Upload comparisons_conditionals_lesson.zip to the Comparisons and Conditionals Lesson assignment on Canvas."
   ]
  },
  {
   "cell_type": "code",
   "execution_count": null,
   "metadata": {},
   "outputs": [],
   "source": []
  },
  {
   "cell_type": "markdown",
   "metadata": {
    "deletable": false,
    "editable": false
   },
   "source": [
    "---\n",
    "\n",
    "To double-check your work, the cell below will rerun all of the autograder tests."
   ]
  },
  {
   "cell_type": "code",
   "execution_count": null,
   "metadata": {
    "deletable": false,
    "editable": false
   },
   "outputs": [],
   "source": [
    "grader.check_all()"
   ]
  },
  {
   "cell_type": "markdown",
   "metadata": {
    "deletable": false,
    "editable": false
   },
   "source": [
    "## Submission\n",
    "\n",
    "Make sure you have run all cells in your notebook in order before running the cell below, so that all images/graphs appear in the output. The cell below will generate a zip file for you to submit. **Please save before exporting!**\n",
    "\n",
    "When done exporting, download the .zip file by finding it in the file browswer on the left side of the screen, then right-click and select **Download**. You'll submit this .zip file for the assignment in Canvas to Gradescope for grading."
   ]
  },
  {
   "cell_type": "code",
   "execution_count": null,
   "metadata": {
    "deletable": false,
    "editable": false
   },
   "outputs": [],
   "source": [
    "# Save your notebook first, then run this cell to export your submission.\n",
    "grader.export()"
   ]
  },
  {
   "cell_type": "markdown",
   "metadata": {},
   "source": [
    " "
   ]
  }
 ],
 "metadata": {
  "kernelspec": {
   "display_name": "Python 3",
   "language": "python",
   "name": "python3"
  },
  "language_info": {
   "codemirror_mode": {
    "name": "ipython",
    "version": 3
   },
   "file_extension": ".py",
   "mimetype": "text/x-python",
   "name": "python",
   "nbconvert_exporter": "python",
   "pygments_lexer": "ipython3",
   "version": "3.8.6"
  }
 },
 "nbformat": 4,
 "nbformat_minor": 4
}
