{
 "cells": [
  {
   "cell_type": "code",
   "execution_count": null,
   "id": "israeli-slovakia",
   "metadata": {
    "deletable": false,
    "editable": false
   },
   "outputs": [],
   "source": [
    "# Initialize Otter\n",
    "import otter\n",
    "grader = otter.Notebook(\"railfence_hw.ipynb\")"
   ]
  },
  {
   "cell_type": "markdown",
   "id": "august-extra",
   "metadata": {},
   "source": [
    "# Finalizing Rail Fence Homework\n",
    "\n",
    "Below are our **text cleaning** and **blocking** functions. Run these cells."
   ]
  },
  {
   "cell_type": "code",
   "execution_count": 1,
   "id": "acting-adelaide",
   "metadata": {},
   "outputs": [],
   "source": [
    "alphabet = \"ABCDEFGHIJKLMNOPQRSTUVWXYZ\""
   ]
  },
  {
   "cell_type": "code",
   "execution_count": 2,
   "id": "individual-health",
   "metadata": {},
   "outputs": [],
   "source": [
    "def text_clean( text ):\n",
    "    \"\"\"\n",
    "    Arguments:\n",
    "        text (str): a string containing text\n",
    "    Returns:\n",
    "        (str): the input string with spaces, non letter characters removed.\n",
    "               letters will be upper-case\n",
    "    \"\"\"\n",
    "    cleaned = ''\n",
    "    for char in text.upper():\n",
    "        if char in alphabet:\n",
    "            cleaned += char\n",
    "            \n",
    "    return cleaned"
   ]
  },
  {
   "cell_type": "code",
   "execution_count": 3,
   "id": "legislative-danish",
   "metadata": {},
   "outputs": [],
   "source": [
    "def block_text(text, chunk=5):\n",
    "    \"\"\"\n",
    "    Arguments:\n",
    "        text (str): a string containing text\n",
    "        chunk (int, optional): the number of characters in each block\n",
    "    Returns:\n",
    "        (str): the input string blocked by the chunk value\n",
    "    \"\"\" \n",
    "    \n",
    "    out = ''\n",
    "    for i in range(len(text)):\n",
    "        if (i)%chunk == 0 and i>0:\n",
    "            out += ' '\n",
    "        out += text[i]\n",
    "    return out"
   ]
  },
  {
   "cell_type": "markdown",
   "id": "graphic-north",
   "metadata": {
    "deletable": false,
    "editable": false
   },
   "source": [
    "## The Rail Fence Cipher\n",
    "\n",
    "Below is the Rail Fence function as we had it at the end of class. Your goal for this assignment is to complete the rail fence cipher to include the ability to encipher and decipher 4 rails.\n",
    "\n",
    "<!--\n",
    "BEGIN QUESTION\n",
    "name: q1\n",
    "-->"
   ]
  },
  {
   "cell_type": "code",
   "execution_count": 4,
   "id": "japanese-peoples",
   "metadata": {},
   "outputs": [],
   "source": [
    "##SOLUTION:## \n",
    "def railfence(text, rows, encipher=True):\n",
    "    \"\"\"\n",
    "    Example of Use:\n",
    "        >>> railfence('samplemessage', 3)\n",
    "        'SLSEAPEESGMMA'\n",
    "    \n",
    "    Arguments:\n",
    "        text (str):  represents either plaintext or ciphertext\n",
    "        rows (int):  integer that represents the number of rows\n",
    "        \n",
    "    Returns:\n",
    "        (str): represents the output, either plaintext or ciphertext\n",
    "        (str): an error message\n",
    "    \"\"\"\n",
    "    \n",
    "    from math import ceil\n",
    "    \n",
    "    text = text_clean( text )\n",
    "    \n",
    "    if encipher == True:\n",
    "        if rows == 2:\n",
    "            ciphertext = text[::2]+text[1::2]\n",
    "        elif rows == 3:\n",
    "            ciphertext = text[::4]+text[1::2]+text[2::4]\n",
    "        elif rows == 4:\n",
    "        else:\n",
    "            return \"number of rails not supported\"\n",
    "        return block_text(ciphertext)\n",
    "    \n",
    "    else:\n",
    "        plaintext = \"\"\n",
    "        if rows == 2:\n",
    "            row1 = text[:ceil(len(text)/2)]\n",
    "            row2 = text[ceil(len(text)/2):]\n",
    "            for i in range(len(row1)):\n",
    "                plaintext += row1[i] \n",
    "                plaintext += row2[i:i+1]\n",
    "        elif rows == 3:\n",
    "            row1_length = ceil(len(text)/4)\n",
    "            row3_length = ceil(len(text[2:])/4)\n",
    "            row1 = text[:row1_length]\n",
    "            row2 = text[row1_length:-row3_length]\n",
    "            row3 = text[-row3_length:]\n",
    "            for index in range(len(row1)):\n",
    "                plaintext += row1[index]\n",
    "                plaintext += row2[index*2:index*2+1]\n",
    "                plaintext += row3[index:index+1]\n",
    "                plaintext += row2[index*2+1:index*2+2]\n",
    "        elif rows == 4:\n",
    "        else:\n",
    "            return \"number of rails not supported\"   \n",
    "        return plaintext.lower()"
   ]
  },
  {
   "cell_type": "code",
   "execution_count": null,
   "id": "suitable-strategy",
   "metadata": {
    "deletable": false,
    "editable": false
   },
   "outputs": [],
   "source": [
    "grader.check(\"q1\")"
   ]
  },
  {
   "cell_type": "markdown",
   "id": "above-sword",
   "metadata": {
    "deletable": false,
    "editable": false
   },
   "source": [
    "---\n",
    "\n",
    "To double-check your work, the cell below will rerun all of the autograder tests."
   ]
  },
  {
   "cell_type": "code",
   "execution_count": null,
   "id": "heated-short",
   "metadata": {
    "deletable": false,
    "editable": false
   },
   "outputs": [],
   "source": [
    "grader.check_all()"
   ]
  },
  {
   "cell_type": "markdown",
   "id": "formed-fundamentals",
   "metadata": {
    "deletable": false,
    "editable": false
   },
   "source": [
    "## Submission\n",
    "\n",
    "Make sure you have run all cells in your notebook in order before running the cell below, so that all images/graphs appear in the output. The cell below will generate a zip file for you to submit. **Please save before exporting!**\n",
    "\n",
    "When done exporting, find the .zip file in the left side of the screen in the file browser, right-click, and select **Download**. You'll submit this .zip file for the assignment in Canvas to Gradescope for grading."
   ]
  },
  {
   "cell_type": "code",
   "execution_count": null,
   "id": "liberal-olive",
   "metadata": {
    "deletable": false,
    "editable": false
   },
   "outputs": [],
   "source": [
    "# Save your notebook first, then run this cell to export your submission.\n",
    "grader.export()"
   ]
  },
  {
   "cell_type": "markdown",
   "id": "controversial-disorder",
   "metadata": {},
   "source": [
    " "
   ]
  }
 ],
 "metadata": {
  "kernelspec": {
   "display_name": "Python 3",
   "language": "python",
   "name": "python3"
  },
  "language_info": {
   "codemirror_mode": {
    "name": "ipython",
    "version": 3
   },
   "file_extension": ".py",
   "mimetype": "text/x-python",
   "name": "python",
   "nbconvert_exporter": "python",
   "pygments_lexer": "ipython3",
   "version": "3.8.6"
  }
 },
 "nbformat": 4,
 "nbformat_minor": 5
}
